{
 "cells": [
  {
   "cell_type": "markdown",
   "id": "68366557-0d81-426e-b7f7-fe707b53e9cd",
   "metadata": {},
   "source": [
    "## Fabiolah Jones\n",
    "## 7/22/2025\n",
    "\n",
    "## Project 1, Part 3: Data Analysis"
   ]
  },
  {
   "cell_type": "code",
   "execution_count": null,
   "id": "80c1754c-56b4-4e32-aafd-f784493fb45f",
   "metadata": {},
   "outputs": [],
   "source": []
  },
  {
   "cell_type": "markdown",
   "id": "b9863151-c58f-481c-8241-c03c8bbae383",
   "metadata": {},
   "source": [
    "### Importing Data and separating columns into groups needed to answer analysis questions"
   ]
  },
  {
   "cell_type": "code",
   "execution_count": 455,
   "id": "c86dfe81-9f6a-4d64-8b83-559028368c0b",
   "metadata": {},
   "outputs": [],
   "source": [
    "import matplotlib.pyplot as plt\n",
    "import pandas as pd"
   ]
  },
  {
   "cell_type": "code",
   "execution_count": 456,
   "id": "5083d991-9969-4551-98df-ea342c389f22",
   "metadata": {},
   "outputs": [],
   "source": [
    "datafile = pd.read_csv(\"clean_medicalstudents.csv\")"
   ]
  },
  {
   "cell_type": "code",
   "execution_count": 457,
   "id": "79eaab77-a61d-4846-b10c-24dad0caffd9",
   "metadata": {},
   "outputs": [
    {
     "data": {
      "text/html": [
       "<div>\n",
       "<style scoped>\n",
       "    .dataframe tbody tr th:only-of-type {\n",
       "        vertical-align: middle;\n",
       "    }\n",
       "\n",
       "    .dataframe tbody tr th {\n",
       "        vertical-align: top;\n",
       "    }\n",
       "\n",
       "    .dataframe thead th {\n",
       "        text-align: right;\n",
       "    }\n",
       "</style>\n",
       "<table border=\"1\" class=\"dataframe\">\n",
       "  <thead>\n",
       "    <tr style=\"text-align: right;\">\n",
       "      <th></th>\n",
       "      <th>seeking_computing_required</th>\n",
       "      <th>seeking_computing_skills</th>\n",
       "      <th>seeking_computing_career_advance</th>\n",
       "      <th>seeking_computing_career_change</th>\n",
       "      <th>seeking_computing_develop</th>\n",
       "      <th>seeking_computing_job</th>\n",
       "      <th>seeking_computing_relocation</th>\n",
       "      <th>seeking_computing_certification</th>\n",
       "      <th>seeking_comuputing_financial</th>\n",
       "      <th>seeking_computing_personal</th>\n",
       "      <th>seeking_computing_curiosity</th>\n",
       "    </tr>\n",
       "  </thead>\n",
       "  <tbody>\n",
       "    <tr>\n",
       "      <th>0</th>\n",
       "      <td>No</td>\n",
       "      <td>Yes</td>\n",
       "      <td>Yes</td>\n",
       "      <td>Yes</td>\n",
       "      <td>Yes</td>\n",
       "      <td>No</td>\n",
       "      <td>No</td>\n",
       "      <td>No</td>\n",
       "      <td>Yes</td>\n",
       "      <td>Yes</td>\n",
       "      <td>Yes</td>\n",
       "    </tr>\n",
       "    <tr>\n",
       "      <th>1</th>\n",
       "      <td>Yes</td>\n",
       "      <td>Yes</td>\n",
       "      <td>Yes</td>\n",
       "      <td>No</td>\n",
       "      <td>Yes</td>\n",
       "      <td>Yes</td>\n",
       "      <td>No</td>\n",
       "      <td>No</td>\n",
       "      <td>Yes</td>\n",
       "      <td>Yes</td>\n",
       "      <td>Yes</td>\n",
       "    </tr>\n",
       "    <tr>\n",
       "      <th>2</th>\n",
       "      <td>Yes</td>\n",
       "      <td>Yes</td>\n",
       "      <td>Yes</td>\n",
       "      <td>Yes</td>\n",
       "      <td>Yes</td>\n",
       "      <td>Yes</td>\n",
       "      <td>Yes</td>\n",
       "      <td>No</td>\n",
       "      <td>Yes</td>\n",
       "      <td>No</td>\n",
       "      <td>No</td>\n",
       "    </tr>\n",
       "    <tr>\n",
       "      <th>3</th>\n",
       "      <td>No</td>\n",
       "      <td>Yes</td>\n",
       "      <td>No</td>\n",
       "      <td>No</td>\n",
       "      <td>No</td>\n",
       "      <td>No</td>\n",
       "      <td>No</td>\n",
       "      <td>No</td>\n",
       "      <td>No</td>\n",
       "      <td>No</td>\n",
       "      <td>No</td>\n",
       "    </tr>\n",
       "    <tr>\n",
       "      <th>4</th>\n",
       "      <td>Yes</td>\n",
       "      <td>Yes</td>\n",
       "      <td>Yes</td>\n",
       "      <td>No</td>\n",
       "      <td>Yes</td>\n",
       "      <td>No</td>\n",
       "      <td>No</td>\n",
       "      <td>No</td>\n",
       "      <td>No</td>\n",
       "      <td>Yes</td>\n",
       "      <td>Yes</td>\n",
       "    </tr>\n",
       "    <tr>\n",
       "      <th>...</th>\n",
       "      <td>...</td>\n",
       "      <td>...</td>\n",
       "      <td>...</td>\n",
       "      <td>...</td>\n",
       "      <td>...</td>\n",
       "      <td>...</td>\n",
       "      <td>...</td>\n",
       "      <td>...</td>\n",
       "      <td>...</td>\n",
       "      <td>...</td>\n",
       "      <td>...</td>\n",
       "    </tr>\n",
       "    <tr>\n",
       "      <th>87</th>\n",
       "      <td>Yes</td>\n",
       "      <td>Yes</td>\n",
       "      <td>Yes</td>\n",
       "      <td>Yes</td>\n",
       "      <td>No</td>\n",
       "      <td>No</td>\n",
       "      <td>No</td>\n",
       "      <td>No</td>\n",
       "      <td>No</td>\n",
       "      <td>No</td>\n",
       "      <td>Yes</td>\n",
       "    </tr>\n",
       "    <tr>\n",
       "      <th>88</th>\n",
       "      <td>Yes</td>\n",
       "      <td>Yes</td>\n",
       "      <td>Yes</td>\n",
       "      <td>No</td>\n",
       "      <td>Yes</td>\n",
       "      <td>Yes</td>\n",
       "      <td>No</td>\n",
       "      <td>No</td>\n",
       "      <td>No</td>\n",
       "      <td>Yes</td>\n",
       "      <td>Yes</td>\n",
       "    </tr>\n",
       "    <tr>\n",
       "      <th>89</th>\n",
       "      <td>Yes</td>\n",
       "      <td>No</td>\n",
       "      <td>No</td>\n",
       "      <td>No</td>\n",
       "      <td>Yes</td>\n",
       "      <td>No</td>\n",
       "      <td>No</td>\n",
       "      <td>No</td>\n",
       "      <td>No</td>\n",
       "      <td>No</td>\n",
       "      <td>No</td>\n",
       "    </tr>\n",
       "    <tr>\n",
       "      <th>90</th>\n",
       "      <td>No</td>\n",
       "      <td>Yes</td>\n",
       "      <td>No</td>\n",
       "      <td>No</td>\n",
       "      <td>No</td>\n",
       "      <td>No</td>\n",
       "      <td>No</td>\n",
       "      <td>No</td>\n",
       "      <td>No</td>\n",
       "      <td>No</td>\n",
       "      <td>Yes</td>\n",
       "    </tr>\n",
       "    <tr>\n",
       "      <th>91</th>\n",
       "      <td>Yes</td>\n",
       "      <td>Yes</td>\n",
       "      <td>Yes</td>\n",
       "      <td>No</td>\n",
       "      <td>Yes</td>\n",
       "      <td>No</td>\n",
       "      <td>No</td>\n",
       "      <td>No</td>\n",
       "      <td>No</td>\n",
       "      <td>Yes</td>\n",
       "      <td>Yes</td>\n",
       "    </tr>\n",
       "  </tbody>\n",
       "</table>\n",
       "<p>92 rows × 11 columns</p>\n",
       "</div>"
      ],
      "text/plain": [
       "   seeking_computing_required seeking_computing_skills  \\\n",
       "0                          No                      Yes   \n",
       "1                         Yes                      Yes   \n",
       "2                         Yes                      Yes   \n",
       "3                          No                      Yes   \n",
       "4                         Yes                      Yes   \n",
       "..                        ...                      ...   \n",
       "87                        Yes                      Yes   \n",
       "88                        Yes                      Yes   \n",
       "89                        Yes                       No   \n",
       "90                         No                      Yes   \n",
       "91                        Yes                      Yes   \n",
       "\n",
       "   seeking_computing_career_advance seeking_computing_career_change  \\\n",
       "0                               Yes                             Yes   \n",
       "1                               Yes                              No   \n",
       "2                               Yes                             Yes   \n",
       "3                                No                              No   \n",
       "4                               Yes                              No   \n",
       "..                              ...                             ...   \n",
       "87                              Yes                             Yes   \n",
       "88                              Yes                              No   \n",
       "89                               No                              No   \n",
       "90                               No                              No   \n",
       "91                              Yes                              No   \n",
       "\n",
       "   seeking_computing_develop seeking_computing_job  \\\n",
       "0                        Yes                    No   \n",
       "1                        Yes                   Yes   \n",
       "2                        Yes                   Yes   \n",
       "3                         No                    No   \n",
       "4                        Yes                    No   \n",
       "..                       ...                   ...   \n",
       "87                        No                    No   \n",
       "88                       Yes                   Yes   \n",
       "89                       Yes                    No   \n",
       "90                        No                    No   \n",
       "91                       Yes                    No   \n",
       "\n",
       "   seeking_computing_relocation seeking_computing_certification  \\\n",
       "0                            No                              No   \n",
       "1                            No                              No   \n",
       "2                           Yes                              No   \n",
       "3                            No                              No   \n",
       "4                            No                              No   \n",
       "..                          ...                             ...   \n",
       "87                           No                              No   \n",
       "88                           No                              No   \n",
       "89                           No                              No   \n",
       "90                           No                              No   \n",
       "91                           No                              No   \n",
       "\n",
       "   seeking_comuputing_financial seeking_computing_personal  \\\n",
       "0                           Yes                        Yes   \n",
       "1                           Yes                        Yes   \n",
       "2                           Yes                         No   \n",
       "3                            No                         No   \n",
       "4                            No                        Yes   \n",
       "..                          ...                        ...   \n",
       "87                           No                         No   \n",
       "88                           No                        Yes   \n",
       "89                           No                         No   \n",
       "90                           No                         No   \n",
       "91                           No                        Yes   \n",
       "\n",
       "   seeking_computing_curiosity  \n",
       "0                          Yes  \n",
       "1                          Yes  \n",
       "2                           No  \n",
       "3                           No  \n",
       "4                          Yes  \n",
       "..                         ...  \n",
       "87                         Yes  \n",
       "88                         Yes  \n",
       "89                          No  \n",
       "90                         Yes  \n",
       "91                         Yes  \n",
       "\n",
       "[92 rows x 11 columns]"
      ]
     },
     "execution_count": 457,
     "metadata": {},
     "output_type": "execute_result"
    }
   ],
   "source": [
    "seek = datafile[[\"seeking_computing_required\", \"seeking_computing_skills\",\"seeking_computing_career_advance\",\"seeking_computing_career_change\",\"seeking_computing_develop\",\"seeking_computing_job\",\"seeking_computing_relocation\",\"seeking_computing_certification\",\"seeking_comuputing_financial\",\"seeking_computing_personal\",\"seeking_computing_curiosity\"]]\n",
    "seek"
   ]
  },
  {
   "cell_type": "code",
   "execution_count": 458,
   "id": "0cca43b8-882c-438e-8273-0cb9ec3f2198",
   "metadata": {},
   "outputs": [
    {
     "data": {
      "text/html": [
       "<div>\n",
       "<style scoped>\n",
       "    .dataframe tbody tr th:only-of-type {\n",
       "        vertical-align: middle;\n",
       "    }\n",
       "\n",
       "    .dataframe tbody tr th {\n",
       "        vertical-align: top;\n",
       "    }\n",
       "\n",
       "    .dataframe thead th {\n",
       "        text-align: right;\n",
       "    }\n",
       "</style>\n",
       "<table border=\"1\" class=\"dataframe\">\n",
       "  <thead>\n",
       "    <tr style=\"text-align: right;\">\n",
       "      <th></th>\n",
       "      <th>age</th>\n",
       "      <th>decision_cost</th>\n",
       "      <th>decision_location</th>\n",
       "      <th>decision_programs</th>\n",
       "      <th>decision_online</th>\n",
       "      <th>decision_referral</th>\n",
       "      <th>decision_faculty</th>\n",
       "      <th>decision_reputation</th>\n",
       "      <th>decision_scholarships</th>\n",
       "      <th>decision_transfer</th>\n",
       "      <th>decision_class</th>\n",
       "      <th>decision_extracurricular</th>\n",
       "    </tr>\n",
       "  </thead>\n",
       "  <tbody>\n",
       "    <tr>\n",
       "      <th>0</th>\n",
       "      <td>19-20</td>\n",
       "      <td>High Impact</td>\n",
       "      <td>High Impact</td>\n",
       "      <td>High Impact</td>\n",
       "      <td>High Impact</td>\n",
       "      <td>High Impact</td>\n",
       "      <td>Some Impact</td>\n",
       "      <td>High Impact</td>\n",
       "      <td>High Impact</td>\n",
       "      <td>High Impact</td>\n",
       "      <td>No Impact</td>\n",
       "      <td>No Impact</td>\n",
       "    </tr>\n",
       "    <tr>\n",
       "      <th>1</th>\n",
       "      <td>19-20</td>\n",
       "      <td>High Impact</td>\n",
       "      <td>High Impact</td>\n",
       "      <td>High Impact</td>\n",
       "      <td>High Impact</td>\n",
       "      <td>High Impact</td>\n",
       "      <td>High Impact</td>\n",
       "      <td>High Impact</td>\n",
       "      <td>High Impact</td>\n",
       "      <td>NaN</td>\n",
       "      <td>High Impact</td>\n",
       "      <td>High Impact</td>\n",
       "    </tr>\n",
       "    <tr>\n",
       "      <th>2</th>\n",
       "      <td>18 and younger</td>\n",
       "      <td>NaN</td>\n",
       "      <td>No Impact</td>\n",
       "      <td>No Impact</td>\n",
       "      <td>No Impact</td>\n",
       "      <td>No Impact</td>\n",
       "      <td>No Impact</td>\n",
       "      <td>No Impact</td>\n",
       "      <td>NaN</td>\n",
       "      <td>No Impact</td>\n",
       "      <td>No Impact</td>\n",
       "      <td>No Impact</td>\n",
       "    </tr>\n",
       "    <tr>\n",
       "      <th>3</th>\n",
       "      <td>19-20</td>\n",
       "      <td>Some Impact</td>\n",
       "      <td>High Impact</td>\n",
       "      <td>Some Impact</td>\n",
       "      <td>No Impact</td>\n",
       "      <td>High Impact</td>\n",
       "      <td>Some Impact</td>\n",
       "      <td>No Impact</td>\n",
       "      <td>No Impact</td>\n",
       "      <td>No Impact</td>\n",
       "      <td>No Impact</td>\n",
       "      <td>No Impact</td>\n",
       "    </tr>\n",
       "    <tr>\n",
       "      <th>4</th>\n",
       "      <td>19-20</td>\n",
       "      <td>High Impact</td>\n",
       "      <td>High Impact</td>\n",
       "      <td>High Impact</td>\n",
       "      <td>High Impact</td>\n",
       "      <td>High Impact</td>\n",
       "      <td>High Impact</td>\n",
       "      <td>High Impact</td>\n",
       "      <td>High Impact</td>\n",
       "      <td>High Impact</td>\n",
       "      <td>High Impact</td>\n",
       "      <td>High Impact</td>\n",
       "    </tr>\n",
       "    <tr>\n",
       "      <th>...</th>\n",
       "      <td>...</td>\n",
       "      <td>...</td>\n",
       "      <td>...</td>\n",
       "      <td>...</td>\n",
       "      <td>...</td>\n",
       "      <td>...</td>\n",
       "      <td>...</td>\n",
       "      <td>...</td>\n",
       "      <td>...</td>\n",
       "      <td>...</td>\n",
       "      <td>...</td>\n",
       "      <td>...</td>\n",
       "    </tr>\n",
       "    <tr>\n",
       "      <th>87</th>\n",
       "      <td>21-24</td>\n",
       "      <td>High Impact</td>\n",
       "      <td>High Impact</td>\n",
       "      <td>High Impact</td>\n",
       "      <td>High Impact</td>\n",
       "      <td>High Impact</td>\n",
       "      <td>High Impact</td>\n",
       "      <td>High Impact</td>\n",
       "      <td>High Impact</td>\n",
       "      <td>High Impact</td>\n",
       "      <td>High Impact</td>\n",
       "      <td>High Impact</td>\n",
       "    </tr>\n",
       "    <tr>\n",
       "      <th>88</th>\n",
       "      <td>19-20</td>\n",
       "      <td>High Impact</td>\n",
       "      <td>High Impact</td>\n",
       "      <td>High Impact</td>\n",
       "      <td>High Impact</td>\n",
       "      <td>High Impact</td>\n",
       "      <td>High Impact</td>\n",
       "      <td>Some Impact</td>\n",
       "      <td>High Impact</td>\n",
       "      <td>High Impact</td>\n",
       "      <td>High Impact</td>\n",
       "      <td>Some Impact</td>\n",
       "    </tr>\n",
       "    <tr>\n",
       "      <th>89</th>\n",
       "      <td>19-20</td>\n",
       "      <td>High Impact</td>\n",
       "      <td>High Impact</td>\n",
       "      <td>High Impact</td>\n",
       "      <td>High Impact</td>\n",
       "      <td>No Impact</td>\n",
       "      <td>No Impact</td>\n",
       "      <td>No Impact</td>\n",
       "      <td>Some Impact</td>\n",
       "      <td>No Impact</td>\n",
       "      <td>No Impact</td>\n",
       "      <td>Some Impact</td>\n",
       "    </tr>\n",
       "    <tr>\n",
       "      <th>90</th>\n",
       "      <td>19-20</td>\n",
       "      <td>High Impact</td>\n",
       "      <td>High Impact</td>\n",
       "      <td>High Impact</td>\n",
       "      <td>High Impact</td>\n",
       "      <td>No Impact</td>\n",
       "      <td>No Impact</td>\n",
       "      <td>Some Impact</td>\n",
       "      <td>Some Impact</td>\n",
       "      <td>Some Impact</td>\n",
       "      <td>No Impact</td>\n",
       "      <td>No Impact</td>\n",
       "    </tr>\n",
       "    <tr>\n",
       "      <th>91</th>\n",
       "      <td>21-24</td>\n",
       "      <td>High Impact</td>\n",
       "      <td>High Impact</td>\n",
       "      <td>Some Impact</td>\n",
       "      <td>Some Impact</td>\n",
       "      <td>High Impact</td>\n",
       "      <td>High Impact</td>\n",
       "      <td>High Impact</td>\n",
       "      <td>Some Impact</td>\n",
       "      <td>Some Impact</td>\n",
       "      <td>High Impact</td>\n",
       "      <td>Some Impact</td>\n",
       "    </tr>\n",
       "  </tbody>\n",
       "</table>\n",
       "<p>92 rows × 12 columns</p>\n",
       "</div>"
      ],
      "text/plain": [
       "               age decision_cost decision_location decision_programs  \\\n",
       "0            19-20   High Impact       High Impact       High Impact   \n",
       "1            19-20   High Impact       High Impact       High Impact   \n",
       "2   18 and younger           NaN         No Impact         No Impact   \n",
       "3            19-20   Some Impact       High Impact       Some Impact   \n",
       "4            19-20   High Impact       High Impact       High Impact   \n",
       "..             ...           ...               ...               ...   \n",
       "87           21-24   High Impact       High Impact       High Impact   \n",
       "88           19-20   High Impact       High Impact       High Impact   \n",
       "89           19-20   High Impact       High Impact       High Impact   \n",
       "90           19-20   High Impact       High Impact       High Impact   \n",
       "91           21-24   High Impact       High Impact       Some Impact   \n",
       "\n",
       "   decision_online decision_referral decision_faculty decision_reputation  \\\n",
       "0      High Impact       High Impact      Some Impact         High Impact   \n",
       "1      High Impact       High Impact      High Impact         High Impact   \n",
       "2        No Impact         No Impact        No Impact           No Impact   \n",
       "3        No Impact       High Impact      Some Impact           No Impact   \n",
       "4      High Impact       High Impact      High Impact         High Impact   \n",
       "..             ...               ...              ...                 ...   \n",
       "87     High Impact       High Impact      High Impact         High Impact   \n",
       "88     High Impact       High Impact      High Impact         Some Impact   \n",
       "89     High Impact         No Impact        No Impact           No Impact   \n",
       "90     High Impact         No Impact        No Impact         Some Impact   \n",
       "91     Some Impact       High Impact      High Impact         High Impact   \n",
       "\n",
       "   decision_scholarships decision_transfer decision_class  \\\n",
       "0            High Impact       High Impact      No Impact   \n",
       "1            High Impact               NaN    High Impact   \n",
       "2                    NaN         No Impact      No Impact   \n",
       "3              No Impact         No Impact      No Impact   \n",
       "4            High Impact       High Impact    High Impact   \n",
       "..                   ...               ...            ...   \n",
       "87           High Impact       High Impact    High Impact   \n",
       "88           High Impact       High Impact    High Impact   \n",
       "89           Some Impact         No Impact      No Impact   \n",
       "90           Some Impact       Some Impact      No Impact   \n",
       "91           Some Impact       Some Impact    High Impact   \n",
       "\n",
       "   decision_extracurricular  \n",
       "0                 No Impact  \n",
       "1               High Impact  \n",
       "2                 No Impact  \n",
       "3                 No Impact  \n",
       "4               High Impact  \n",
       "..                      ...  \n",
       "87              High Impact  \n",
       "88              Some Impact  \n",
       "89              Some Impact  \n",
       "90                No Impact  \n",
       "91              Some Impact  \n",
       "\n",
       "[92 rows x 12 columns]"
      ]
     },
     "execution_count": 458,
     "metadata": {},
     "output_type": "execute_result"
    }
   ],
   "source": [
    "decision = datafile [[\"age\",\"decision_cost\",\"decision_location\",\"decision_programs\",\"decision_online\",\"decision_referral\",\"decision_faculty\",\"decision_reputation\",\"decision_scholarships\",\"decision_transfer\",\"decision_class\",\"decision_extracurricular\"]]\n",
    "decision"
   ]
  },
  {
   "cell_type": "code",
   "execution_count": 459,
   "id": "4dac547e-22c4-4c57-a7c9-959819c8d0cb",
   "metadata": {},
   "outputs": [
    {
     "data": {
      "text/html": [
       "<div>\n",
       "<style scoped>\n",
       "    .dataframe tbody tr th:only-of-type {\n",
       "        vertical-align: middle;\n",
       "    }\n",
       "\n",
       "    .dataframe tbody tr th {\n",
       "        vertical-align: top;\n",
       "    }\n",
       "\n",
       "    .dataframe thead th {\n",
       "        text-align: right;\n",
       "    }\n",
       "</style>\n",
       "<table border=\"1\" class=\"dataframe\">\n",
       "  <thead>\n",
       "    <tr style=\"text-align: right;\">\n",
       "      <th></th>\n",
       "      <th>website</th>\n",
       "      <th>billboard</th>\n",
       "      <th>tv</th>\n",
       "      <th>socials</th>\n",
       "      <th>radio</th>\n",
       "      <th>community</th>\n",
       "      <th>family</th>\n",
       "      <th>employer</th>\n",
       "      <th>attendee</th>\n",
       "      <th>alumni</th>\n",
       "      <th>high_school</th>\n",
       "    </tr>\n",
       "  </thead>\n",
       "  <tbody>\n",
       "    <tr>\n",
       "      <th>0</th>\n",
       "      <td>No</td>\n",
       "      <td>No</td>\n",
       "      <td>No</td>\n",
       "      <td>No</td>\n",
       "      <td>No</td>\n",
       "      <td>Yes</td>\n",
       "      <td>Yes</td>\n",
       "      <td>No</td>\n",
       "      <td>Yes</td>\n",
       "      <td>Yes</td>\n",
       "      <td>Yes</td>\n",
       "    </tr>\n",
       "    <tr>\n",
       "      <th>1</th>\n",
       "      <td>Yes</td>\n",
       "      <td>No</td>\n",
       "      <td>No</td>\n",
       "      <td>Yes</td>\n",
       "      <td>No</td>\n",
       "      <td>No</td>\n",
       "      <td>Yes</td>\n",
       "      <td>No</td>\n",
       "      <td>Yes</td>\n",
       "      <td>No</td>\n",
       "      <td>No</td>\n",
       "    </tr>\n",
       "    <tr>\n",
       "      <th>2</th>\n",
       "      <td>Yes</td>\n",
       "      <td>No</td>\n",
       "      <td>No</td>\n",
       "      <td>No</td>\n",
       "      <td>No</td>\n",
       "      <td>No</td>\n",
       "      <td>No</td>\n",
       "      <td>No</td>\n",
       "      <td>No</td>\n",
       "      <td>No</td>\n",
       "      <td>No</td>\n",
       "    </tr>\n",
       "    <tr>\n",
       "      <th>3</th>\n",
       "      <td>No</td>\n",
       "      <td>No</td>\n",
       "      <td>No</td>\n",
       "      <td>No</td>\n",
       "      <td>No</td>\n",
       "      <td>No</td>\n",
       "      <td>Yes</td>\n",
       "      <td>No</td>\n",
       "      <td>Yes</td>\n",
       "      <td>Yes</td>\n",
       "      <td>Yes</td>\n",
       "    </tr>\n",
       "    <tr>\n",
       "      <th>4</th>\n",
       "      <td>Yes</td>\n",
       "      <td>Yes</td>\n",
       "      <td>Yes</td>\n",
       "      <td>Yes</td>\n",
       "      <td>No</td>\n",
       "      <td>Yes</td>\n",
       "      <td>Yes</td>\n",
       "      <td>Yes</td>\n",
       "      <td>Yes</td>\n",
       "      <td>Yes</td>\n",
       "      <td>Yes</td>\n",
       "    </tr>\n",
       "    <tr>\n",
       "      <th>...</th>\n",
       "      <td>...</td>\n",
       "      <td>...</td>\n",
       "      <td>...</td>\n",
       "      <td>...</td>\n",
       "      <td>...</td>\n",
       "      <td>...</td>\n",
       "      <td>...</td>\n",
       "      <td>...</td>\n",
       "      <td>...</td>\n",
       "      <td>...</td>\n",
       "      <td>...</td>\n",
       "    </tr>\n",
       "    <tr>\n",
       "      <th>87</th>\n",
       "      <td>No</td>\n",
       "      <td>No</td>\n",
       "      <td>No</td>\n",
       "      <td>No</td>\n",
       "      <td>No</td>\n",
       "      <td>No</td>\n",
       "      <td>Yes</td>\n",
       "      <td>No</td>\n",
       "      <td>No</td>\n",
       "      <td>No</td>\n",
       "      <td>No</td>\n",
       "    </tr>\n",
       "    <tr>\n",
       "      <th>88</th>\n",
       "      <td>No</td>\n",
       "      <td>No</td>\n",
       "      <td>No</td>\n",
       "      <td>No</td>\n",
       "      <td>No</td>\n",
       "      <td>No</td>\n",
       "      <td>Yes</td>\n",
       "      <td>No</td>\n",
       "      <td>Yes</td>\n",
       "      <td>Yes</td>\n",
       "      <td>No</td>\n",
       "    </tr>\n",
       "    <tr>\n",
       "      <th>89</th>\n",
       "      <td>No</td>\n",
       "      <td>No</td>\n",
       "      <td>No</td>\n",
       "      <td>No</td>\n",
       "      <td>No</td>\n",
       "      <td>Yes</td>\n",
       "      <td>Yes</td>\n",
       "      <td>No</td>\n",
       "      <td>No</td>\n",
       "      <td>No</td>\n",
       "      <td>No</td>\n",
       "    </tr>\n",
       "    <tr>\n",
       "      <th>90</th>\n",
       "      <td>Yes</td>\n",
       "      <td>No</td>\n",
       "      <td>No</td>\n",
       "      <td>No</td>\n",
       "      <td>No</td>\n",
       "      <td>Yes</td>\n",
       "      <td>Yes</td>\n",
       "      <td>No</td>\n",
       "      <td>Yes</td>\n",
       "      <td>No</td>\n",
       "      <td>Yes</td>\n",
       "    </tr>\n",
       "    <tr>\n",
       "      <th>91</th>\n",
       "      <td>Yes</td>\n",
       "      <td>No</td>\n",
       "      <td>No</td>\n",
       "      <td>Yes</td>\n",
       "      <td>No</td>\n",
       "      <td>No</td>\n",
       "      <td>Yes</td>\n",
       "      <td>Yes</td>\n",
       "      <td>Yes</td>\n",
       "      <td>No</td>\n",
       "      <td>No</td>\n",
       "    </tr>\n",
       "  </tbody>\n",
       "</table>\n",
       "<p>92 rows × 11 columns</p>\n",
       "</div>"
      ],
      "text/plain": [
       "   website billboard   tv socials radio community family employer attendee  \\\n",
       "0       No        No   No      No    No       Yes    Yes       No      Yes   \n",
       "1      Yes        No   No     Yes    No        No    Yes       No      Yes   \n",
       "2      Yes        No   No      No    No        No     No       No       No   \n",
       "3       No        No   No      No    No        No    Yes       No      Yes   \n",
       "4      Yes       Yes  Yes     Yes    No       Yes    Yes      Yes      Yes   \n",
       "..     ...       ...  ...     ...   ...       ...    ...      ...      ...   \n",
       "87      No        No   No      No    No        No    Yes       No       No   \n",
       "88      No        No   No      No    No        No    Yes       No      Yes   \n",
       "89      No        No   No      No    No       Yes    Yes       No       No   \n",
       "90     Yes        No   No      No    No       Yes    Yes       No      Yes   \n",
       "91     Yes        No   No     Yes    No        No    Yes      Yes      Yes   \n",
       "\n",
       "   alumni high_school  \n",
       "0     Yes         Yes  \n",
       "1      No          No  \n",
       "2      No          No  \n",
       "3     Yes         Yes  \n",
       "4     Yes         Yes  \n",
       "..    ...         ...  \n",
       "87     No          No  \n",
       "88    Yes          No  \n",
       "89     No          No  \n",
       "90     No         Yes  \n",
       "91     No          No  \n",
       "\n",
       "[92 rows x 11 columns]"
      ]
     },
     "execution_count": 459,
     "metadata": {},
     "output_type": "execute_result"
    }
   ],
   "source": [
    "informed = datafile[[\"website\", \"billboard\", \"tv\",\"socials\", \"radio\", \"community\", \"family\",\"employer\", \"attendee\", \"alumni\", \"high_school\"]]\n",
    "informed"
   ]
  },
  {
   "cell_type": "markdown",
   "id": "92acfa30-5dd6-4426-8a65-c3553aff0995",
   "metadata": {},
   "source": [
    "## What is the #1 and last reason to seek a computer class at CCM?"
   ]
  },
  {
   "cell_type": "code",
   "execution_count": 460,
   "id": "22d6fb8e-11de-4c74-a9e3-7cfd8f0dfd73",
   "metadata": {},
   "outputs": [
    {
     "data": {
      "text/plain": [
       "82"
      ]
     },
     "execution_count": 460,
     "metadata": {},
     "output_type": "execute_result"
    }
   ],
   "source": [
    "required = seek[seek['seeking_computing_required'] ==\"Yes\"]['seeking_computing_required'].count()\n",
    "required"
   ]
  },
  {
   "cell_type": "code",
   "execution_count": 461,
   "id": "2fcf0b7b-12d6-4c0d-8599-fe09521b3d00",
   "metadata": {},
   "outputs": [
    {
     "data": {
      "text/plain": [
       "70"
      ]
     },
     "execution_count": 461,
     "metadata": {},
     "output_type": "execute_result"
    }
   ],
   "source": [
    "skills =  seek[seek['seeking_computing_skills'] ==\"Yes\"]['seeking_computing_skills'].count()\n",
    "skills"
   ]
  },
  {
   "cell_type": "code",
   "execution_count": 462,
   "id": "6cd1333d-f751-4fc4-a3a9-22f7a4da6bea",
   "metadata": {},
   "outputs": [
    {
     "data": {
      "text/plain": [
       "54"
      ]
     },
     "execution_count": 462,
     "metadata": {},
     "output_type": "execute_result"
    }
   ],
   "source": [
    "advance=  seek[seek['seeking_computing_career_advance'] ==\"Yes\"]['seeking_computing_career_advance'].count()\n",
    "advance"
   ]
  },
  {
   "cell_type": "code",
   "execution_count": 463,
   "id": "5aebe7e8-061c-4d9e-a680-6eec2d13e82a",
   "metadata": {},
   "outputs": [
    {
     "data": {
      "text/plain": [
       "18"
      ]
     },
     "execution_count": 463,
     "metadata": {},
     "output_type": "execute_result"
    }
   ],
   "source": [
    "change= seek[seek['seeking_computing_career_change'] ==\"Yes\"]['seeking_computing_career_change'].count()\n",
    "change"
   ]
  },
  {
   "cell_type": "code",
   "execution_count": 464,
   "id": "52ac8fad-e6f6-4616-9606-dc2501f1ba4d",
   "metadata": {},
   "outputs": [
    {
     "data": {
      "text/plain": [
       "65"
      ]
     },
     "execution_count": 464,
     "metadata": {},
     "output_type": "execute_result"
    }
   ],
   "source": [
    "develop= seek[seek['seeking_computing_develop'] ==\"Yes\"]['seeking_computing_develop'].count()\n",
    "develop"
   ]
  },
  {
   "cell_type": "code",
   "execution_count": 465,
   "id": "f6cd79ab-f768-4d07-b998-5b992b63e423",
   "metadata": {},
   "outputs": [
    {
     "data": {
      "text/plain": [
       "21"
      ]
     },
     "execution_count": 465,
     "metadata": {},
     "output_type": "execute_result"
    }
   ],
   "source": [
    "job= seek[seek['seeking_computing_job'] ==\"Yes\"]['seeking_computing_job'].count()\n",
    "job"
   ]
  },
  {
   "cell_type": "code",
   "execution_count": 466,
   "id": "7e8e8f41-7a3c-4a74-99f1-b5ac3f88a9ac",
   "metadata": {},
   "outputs": [
    {
     "data": {
      "text/plain": [
       "9"
      ]
     },
     "execution_count": 466,
     "metadata": {},
     "output_type": "execute_result"
    }
   ],
   "source": [
    "relocate= seek[seek['seeking_computing_relocation'] ==\"Yes\"]['seeking_computing_relocation'].count()\n",
    "relocate"
   ]
  },
  {
   "cell_type": "code",
   "execution_count": 467,
   "id": "77eec3d9-f139-4670-a291-372416261b2f",
   "metadata": {},
   "outputs": [
    {
     "data": {
      "text/plain": [
       "3"
      ]
     },
     "execution_count": 467,
     "metadata": {},
     "output_type": "execute_result"
    }
   ],
   "source": [
    "certification= seek[seek['seeking_computing_certification'] ==\"Yes\"]['seeking_computing_certification'].count()\n",
    "certification"
   ]
  },
  {
   "cell_type": "code",
   "execution_count": 468,
   "id": "8bd65ddc-3250-4076-b167-54a4f0dd12f6",
   "metadata": {},
   "outputs": [
    {
     "data": {
      "text/plain": [
       "20"
      ]
     },
     "execution_count": 468,
     "metadata": {},
     "output_type": "execute_result"
    }
   ],
   "source": [
    "financial= seek[seek['seeking_comuputing_financial'] ==\"Yes\"]['seeking_comuputing_financial'].count()\n",
    "financial"
   ]
  },
  {
   "cell_type": "code",
   "execution_count": 469,
   "id": "24163eb8-eddd-45dd-bfd7-844e2f3e5bcb",
   "metadata": {},
   "outputs": [
    {
     "data": {
      "text/plain": [
       "48"
      ]
     },
     "execution_count": 469,
     "metadata": {},
     "output_type": "execute_result"
    }
   ],
   "source": [
    "personal= seek[seek['seeking_computing_personal'] ==\"Yes\"]['seeking_computing_personal'].count()\n",
    "personal"
   ]
  },
  {
   "cell_type": "code",
   "execution_count": 470,
   "id": "262c88fa-2ebb-4133-ac2e-2046c973b8ba",
   "metadata": {},
   "outputs": [
    {
     "data": {
      "text/plain": [
       "47"
      ]
     },
     "execution_count": 470,
     "metadata": {},
     "output_type": "execute_result"
    }
   ],
   "source": [
    "curious= seek[seek['seeking_computing_curiosity'] ==\"Yes\"]['seeking_computing_curiosity'].count()\n",
    "curious"
   ]
  },
  {
   "cell_type": "markdown",
   "id": "3294ede4-8035-4b30-9869-2a8a8bcaf679",
   "metadata": {},
   "source": [
    "### After finding the rankings for all options we see the main reason to seek a computer class is because it is required of students and the least reason to seek a computer class is because it is needed for a certification."
   ]
  },
  {
   "cell_type": "code",
   "execution_count": 471,
   "id": "00c038b6-326c-456e-bd91-1a6a85af42b7",
   "metadata": {},
   "outputs": [
    {
     "data": {
      "text/plain": [
       "[[3, 'certification'],\n",
       " [9, 'relocate'],\n",
       " [18, 'change'],\n",
       " [20, 'financial'],\n",
       " [21, 'job'],\n",
       " [47, 'curious'],\n",
       " [48, 'personal'],\n",
       " [54, 'advance'],\n",
       " [65, 'develop'],\n",
       " [70, 'skills'],\n",
       " [82, 'required']]"
      ]
     },
     "execution_count": 471,
     "metadata": {},
     "output_type": "execute_result"
    }
   ],
   "source": [
    "seek_summary=[[required,'required'],[skills,'skills'],[advance,'advance'],[change,'change'],[develop,'develop'],[job,'job'],[relocate,'relocate'],[certification,'certification'],[financial,'financial'],[personal,'personal'],[curious,'curious']]\n",
    "seek_summary.sort()\n",
    "seek_summary"
   ]
  },
  {
   "cell_type": "markdown",
   "id": "6f3c1863-32b3-4ffa-ab3c-4a1c42012b3e",
   "metadata": {},
   "source": [
    "## What are the top 3 responses to: \"How did you hear about County College of Morris?\""
   ]
  },
  {
   "cell_type": "code",
   "execution_count": 472,
   "id": "702ac9e1-9f5e-4f24-9a5d-bf99e6aca674",
   "metadata": {},
   "outputs": [
    {
     "data": {
      "text/plain": [
       "38"
      ]
     },
     "execution_count": 472,
     "metadata": {},
     "output_type": "execute_result"
    }
   ],
   "source": [
    "web = informed[informed['website'] ==\"Yes\"]['website'].count()\n",
    "web"
   ]
  },
  {
   "cell_type": "code",
   "execution_count": 473,
   "id": "a4eca6be-8cb5-441f-a150-28aa69299057",
   "metadata": {},
   "outputs": [
    {
     "data": {
      "text/plain": [
       "8"
      ]
     },
     "execution_count": 473,
     "metadata": {},
     "output_type": "execute_result"
    }
   ],
   "source": [
    "bill = informed[informed['billboard'] ==\"Yes\"]['billboard'].count()\n",
    "bill"
   ]
  },
  {
   "cell_type": "code",
   "execution_count": 474,
   "id": "24e9d2e7-f3ac-4c2d-bd1b-3ff048087e8b",
   "metadata": {},
   "outputs": [
    {
     "data": {
      "text/plain": [
       "1"
      ]
     },
     "execution_count": 474,
     "metadata": {},
     "output_type": "execute_result"
    }
   ],
   "source": [
    "tv=informed[informed['tv'] ==\"Yes\"]['tv'].count()\n",
    "tv"
   ]
  },
  {
   "cell_type": "code",
   "execution_count": 475,
   "id": "27f2c6b6-60e8-4386-a67b-23c21ee0746f",
   "metadata": {},
   "outputs": [
    {
     "data": {
      "text/plain": [
       "26"
      ]
     },
     "execution_count": 475,
     "metadata": {},
     "output_type": "execute_result"
    }
   ],
   "source": [
    "social=informed[informed['socials'] ==\"Yes\"]['socials'].count()\n",
    "social"
   ]
  },
  {
   "cell_type": "code",
   "execution_count": 476,
   "id": "b451b43c-5f09-40af-b7ad-6bfbe59ce76a",
   "metadata": {},
   "outputs": [
    {
     "data": {
      "text/plain": [
       "0"
      ]
     },
     "execution_count": 476,
     "metadata": {},
     "output_type": "execute_result"
    }
   ],
   "source": [
    "radio=informed[informed['radio'] ==\"Yes\"]['radio'].count()\n",
    "radio"
   ]
  },
  {
   "cell_type": "code",
   "execution_count": 477,
   "id": "f06d9570-9450-48c0-9960-9462098ff1c4",
   "metadata": {},
   "outputs": [
    {
     "data": {
      "text/plain": [
       "16"
      ]
     },
     "execution_count": 477,
     "metadata": {},
     "output_type": "execute_result"
    }
   ],
   "source": [
    "community=informed[informed['community'] ==\"Yes\"]['community'].count()\n",
    "community"
   ]
  },
  {
   "cell_type": "code",
   "execution_count": 478,
   "id": "df12879d-a83d-4d36-b331-7129d103c59f",
   "metadata": {},
   "outputs": [
    {
     "data": {
      "text/plain": [
       "70"
      ]
     },
     "execution_count": 478,
     "metadata": {},
     "output_type": "execute_result"
    }
   ],
   "source": [
    "family=informed[informed['family'] ==\"Yes\"]['family'].count()\n",
    "family"
   ]
  },
  {
   "cell_type": "code",
   "execution_count": 479,
   "id": "58d5c2a9-fdcc-4f10-a4e3-eee92be87bb5",
   "metadata": {},
   "outputs": [
    {
     "data": {
      "text/plain": [
       "16"
      ]
     },
     "execution_count": 479,
     "metadata": {},
     "output_type": "execute_result"
    }
   ],
   "source": [
    "employer=informed[informed['employer'] ==\"Yes\"]['employer'].count()\n",
    "employer"
   ]
  },
  {
   "cell_type": "code",
   "execution_count": 480,
   "id": "ebaf6a54-4259-4a96-ae22-3e38b1962caf",
   "metadata": {},
   "outputs": [
    {
     "data": {
      "text/plain": [
       "46"
      ]
     },
     "execution_count": 480,
     "metadata": {},
     "output_type": "execute_result"
    }
   ],
   "source": [
    "attendee=informed[informed['attendee'] ==\"Yes\"]['attendee'].count()\n",
    "attendee"
   ]
  },
  {
   "cell_type": "code",
   "execution_count": 481,
   "id": "9c743414-25f2-43c1-a20f-ab341b42d477",
   "metadata": {},
   "outputs": [
    {
     "data": {
      "text/plain": [
       "26"
      ]
     },
     "execution_count": 481,
     "metadata": {},
     "output_type": "execute_result"
    }
   ],
   "source": [
    "alumni=informed[informed['alumni'] ==\"Yes\"]['alumni'].count()\n",
    "alumni"
   ]
  },
  {
   "cell_type": "code",
   "execution_count": 482,
   "id": "0e18e979-7deb-4bc3-826f-e55bb55aeba4",
   "metadata": {},
   "outputs": [
    {
     "data": {
      "text/plain": [
       "56"
      ]
     },
     "execution_count": 482,
     "metadata": {},
     "output_type": "execute_result"
    }
   ],
   "source": [
    "highschool=informed[informed['high_school'] ==\"Yes\"]['high_school'].count()\n",
    "highschool"
   ]
  },
  {
   "cell_type": "markdown",
   "id": "fd90342c-11dd-4b68-8722-37f11975f872",
   "metadata": {},
   "source": [
    "### Majority of students at CCM were told about the college from family/friends, their high school, or a current CCM student."
   ]
  },
  {
   "cell_type": "code",
   "execution_count": 483,
   "id": "356f5a2b-4123-4a7c-80b4-1687b4e0ce2a",
   "metadata": {},
   "outputs": [
    {
     "data": {
      "text/plain": [
       "[[0, 'radio'],\n",
       " [1, 'tv'],\n",
       " [8, 'bill'],\n",
       " [16, 'community'],\n",
       " [16, 'employer'],\n",
       " [26, 'alumni'],\n",
       " [26, 'social'],\n",
       " [38, 'web'],\n",
       " [46, 'attendee'],\n",
       " [56, 'highschool'],\n",
       " [70, 'family']]"
      ]
     },
     "execution_count": 483,
     "metadata": {},
     "output_type": "execute_result"
    }
   ],
   "source": [
    "informed_summary=[[web,'web'],[bill,'bill'],[tv,'tv'],[social,'social'],[radio,'radio'],[community,'community'],[family,'family'],[employer,'employer'],[attendee,'attendee'],[alumni,'alumni'],[highschool,'highschool']]\n",
    "informed_summary.sort()\n",
    "informed_summary"
   ]
  },
  {
   "cell_type": "markdown",
   "id": "6cfe9467-75b3-4428-8a15-5296217599aa",
   "metadata": {},
   "source": [
    "## Which gender had the majority of responses of scale of 1 and 5 from the question: \"On a scale of 1 to 5, with 1 being not at all interested and 5 being extremely interested, how interested are you taking more courses in Computer Science, Information Technology or Game Development?\""
   ]
  },
  {
   "cell_type": "code",
   "execution_count": 484,
   "id": "d5ff2bbb-f528-4b7b-b0dc-d62c41504084",
   "metadata": {},
   "outputs": [
    {
     "data": {
      "text/html": [
       "<div>\n",
       "<style scoped>\n",
       "    .dataframe tbody tr th:only-of-type {\n",
       "        vertical-align: middle;\n",
       "    }\n",
       "\n",
       "    .dataframe tbody tr th {\n",
       "        vertical-align: top;\n",
       "    }\n",
       "\n",
       "    .dataframe thead th {\n",
       "        text-align: right;\n",
       "    }\n",
       "</style>\n",
       "<table border=\"1\" class=\"dataframe\">\n",
       "  <thead>\n",
       "    <tr style=\"text-align: right;\">\n",
       "      <th></th>\n",
       "      <th>interest</th>\n",
       "      <th>gender</th>\n",
       "    </tr>\n",
       "  </thead>\n",
       "  <tbody>\n",
       "    <tr>\n",
       "      <th>0</th>\n",
       "      <td>2</td>\n",
       "      <td>Prefer not to say</td>\n",
       "    </tr>\n",
       "    <tr>\n",
       "      <th>1</th>\n",
       "      <td>3</td>\n",
       "      <td>Woman</td>\n",
       "    </tr>\n",
       "    <tr>\n",
       "      <th>2</th>\n",
       "      <td>5</td>\n",
       "      <td>Man</td>\n",
       "    </tr>\n",
       "    <tr>\n",
       "      <th>3</th>\n",
       "      <td>3</td>\n",
       "      <td>Man</td>\n",
       "    </tr>\n",
       "    <tr>\n",
       "      <th>4</th>\n",
       "      <td>3</td>\n",
       "      <td>Woman</td>\n",
       "    </tr>\n",
       "    <tr>\n",
       "      <th>...</th>\n",
       "      <td>...</td>\n",
       "      <td>...</td>\n",
       "    </tr>\n",
       "    <tr>\n",
       "      <th>87</th>\n",
       "      <td>3</td>\n",
       "      <td>Woman</td>\n",
       "    </tr>\n",
       "    <tr>\n",
       "      <th>88</th>\n",
       "      <td>3</td>\n",
       "      <td>Woman</td>\n",
       "    </tr>\n",
       "    <tr>\n",
       "      <th>89</th>\n",
       "      <td>1</td>\n",
       "      <td>Woman</td>\n",
       "    </tr>\n",
       "    <tr>\n",
       "      <th>90</th>\n",
       "      <td>3</td>\n",
       "      <td>Man</td>\n",
       "    </tr>\n",
       "    <tr>\n",
       "      <th>91</th>\n",
       "      <td>5</td>\n",
       "      <td>Woman</td>\n",
       "    </tr>\n",
       "  </tbody>\n",
       "</table>\n",
       "<p>92 rows × 2 columns</p>\n",
       "</div>"
      ],
      "text/plain": [
       "    interest             gender\n",
       "0          2  Prefer not to say\n",
       "1          3              Woman\n",
       "2          5                Man\n",
       "3          3                Man\n",
       "4          3              Woman\n",
       "..       ...                ...\n",
       "87         3              Woman\n",
       "88         3              Woman\n",
       "89         1              Woman\n",
       "90         3                Man\n",
       "91         5              Woman\n",
       "\n",
       "[92 rows x 2 columns]"
      ]
     },
     "execution_count": 484,
     "metadata": {},
     "output_type": "execute_result"
    }
   ],
   "source": [
    "scale = datafile[[\"interest\",\"gender\"]]\n",
    "scale"
   ]
  },
  {
   "cell_type": "code",
   "execution_count": 485,
   "id": "5002d9dc-a39f-40db-8462-806f9d5e7a11",
   "metadata": {},
   "outputs": [
    {
     "data": {
      "text/plain": [
       "interest  gender           \n",
       "3         Woman                19\n",
       "2         Woman                16\n",
       "3         Man                  15\n",
       "1         Woman                13\n",
       "2         Man                   9\n",
       "5         Woman                 7\n",
       "4         Woman                 5\n",
       "1         Man                   3\n",
       "          Prefer not to say     1\n",
       "2         Non-binary            1\n",
       "          Prefer not to say     1\n",
       "4         Man                   1\n",
       "5         Man                   1\n",
       "Name: count, dtype: int64"
      ]
     },
     "execution_count": 485,
     "metadata": {},
     "output_type": "execute_result"
    }
   ],
   "source": [
    "scale_gender = scale.value_counts()\n",
    "scale_gender"
   ]
  },
  {
   "cell_type": "code",
   "execution_count": 486,
   "id": "e2db6afe-70d0-495d-a66d-83f8444b4a79",
   "metadata": {},
   "outputs": [
    {
     "data": {
      "text/plain": [
       "gender\n",
       "Woman                13\n",
       "Man                   3\n",
       "Prefer not to say     1\n",
       "Name: count, dtype: int64"
      ]
     },
     "execution_count": 486,
     "metadata": {},
     "output_type": "execute_result"
    }
   ],
   "source": [
    "one = scale_gender.loc[1]\n",
    "one"
   ]
  },
  {
   "cell_type": "code",
   "execution_count": 487,
   "id": "60b22a49-9a58-428b-a353-bfd40eb08d2c",
   "metadata": {},
   "outputs": [
    {
     "data": {
      "text/plain": [
       "gender\n",
       "Woman                16\n",
       "Man                   9\n",
       "Non-binary            1\n",
       "Prefer not to say     1\n",
       "Name: count, dtype: int64"
      ]
     },
     "execution_count": 487,
     "metadata": {},
     "output_type": "execute_result"
    }
   ],
   "source": [
    "two = scale_gender.loc[2]\n",
    "two"
   ]
  },
  {
   "cell_type": "code",
   "execution_count": 488,
   "id": "00eff281-0fa0-4124-8a3b-fd0bf22c1eb3",
   "metadata": {},
   "outputs": [
    {
     "data": {
      "text/plain": [
       "gender\n",
       "Woman    19\n",
       "Man      15\n",
       "Name: count, dtype: int64"
      ]
     },
     "execution_count": 488,
     "metadata": {},
     "output_type": "execute_result"
    }
   ],
   "source": [
    "three = scale_gender.loc[3]\n",
    "three"
   ]
  },
  {
   "cell_type": "code",
   "execution_count": 489,
   "id": "0fea01a6-9731-4b43-aa2c-7c5c11cdbd5d",
   "metadata": {},
   "outputs": [
    {
     "data": {
      "text/plain": [
       "gender\n",
       "Woman    5\n",
       "Man      1\n",
       "Name: count, dtype: int64"
      ]
     },
     "execution_count": 489,
     "metadata": {},
     "output_type": "execute_result"
    }
   ],
   "source": [
    "four = scale_gender.loc[4]\n",
    "four"
   ]
  },
  {
   "cell_type": "code",
   "execution_count": 490,
   "id": "782f9ed3-f150-4ff1-b2e8-4cbb050a3031",
   "metadata": {},
   "outputs": [
    {
     "data": {
      "text/plain": [
       "gender\n",
       "Woman    7\n",
       "Man      1\n",
       "Name: count, dtype: int64"
      ]
     },
     "execution_count": 490,
     "metadata": {},
     "output_type": "execute_result"
    }
   ],
   "source": [
    "five = scale_gender.loc[5]\n",
    "five"
   ]
  },
  {
   "cell_type": "markdown",
   "id": "d95da725-3574-4dbe-ae1a-1fb3f5e44861",
   "metadata": {},
   "source": [
    "### From the plot we see that it is women that have the majority of responses of scale 1 and also a scale of 5 in regards to being interested in taking another computer course."
   ]
  },
  {
   "cell_type": "code",
   "execution_count": 491,
   "id": "cf923b68-dd31-4f91-aff3-8b61b17d6238",
   "metadata": {},
   "outputs": [
    {
     "data": {
      "text/plain": [
       "Text(0, 0.5, 'Amount')"
      ]
     },
     "execution_count": 491,
     "metadata": {},
     "output_type": "execute_result"
    },
    {
     "data": {
      "image/png": "[encoded data removed]",
      "text/plain": [
       "<Figure size 640x480 with 1 Axes>"
      ]
     },
     "metadata": {},
     "output_type": "display_data"
    }
   ],
   "source": [
    "one.plot(linestyle='none', color = 'g',marker='>')\n",
    "five.plot(linestyle='none', color ='r', marker = '^')\n",
    "plt.title(\"Interest Level of Taking More Courses\")\n",
    "plt.grid()\n",
    "plt.legend(title = \"Interest Level\", labels=['1','5'])\n",
    "plt.ylabel(\"Amount\")"
   ]
  },
  {
   "cell_type": "markdown",
   "id": "20909b52-5acf-4d4b-a191-c399e2c9b39d",
   "metadata": {},
   "source": [
    "### Overview of response of interest:"
   ]
  },
  {
   "cell_type": "code",
   "execution_count": 492,
   "id": "c8230247-d4f5-4677-80ef-4c31b6e061d9",
   "metadata": {},
   "outputs": [
    {
     "data": {
      "image/png": "[encoded data removed]",
      "text/plain": [
       "<Figure size 640x480 with 1 Axes>"
      ]
     },
     "metadata": {},
     "output_type": "display_data"
    }
   ],
   "source": [
    "one.plot(linestyle='none', color = 'g',marker='>',alpha = 0.4)\n",
    "two.plot(linestyle='none', color = 'y', marker = '<',alpha = 0.4)\n",
    "three.plot(linestyle='none', color = 'c', marker = '8',alpha = 0.4)\n",
    "four.plot(linestyle='none', color = 'm', marker = 'v',alpha = 0.4)\n",
    "five.plot(linestyle='none', color ='r', marker = '^',alpha = 0.4)\n",
    "plt.legend(title = \"Interest Level\", labels=['1','2','3','4','5'])\n",
    "plt.ylabel(\"Amount\")\n",
    "plt.title(\"Interest Level of Taking More Courses\")\n",
    "plt.grid()"
   ]
  },
  {
   "cell_type": "markdown",
   "id": "1a6582d9-4b3f-499f-b7a1-129646155879",
   "metadata": {},
   "source": [
    "## What is the breakdown by age group of the results to the question: \"To what extent did the following impact your decision to attend County College of Morris?\""
   ]
  },
  {
   "cell_type": "markdown",
   "id": "41cec401-fb8f-4b0e-9dd4-54b756871b5c",
   "metadata": {},
   "source": [
    "### We can see after eyeballing the table that the top reasons for choosing CCM is the affordable cost, location, and choice of programs."
   ]
  },
  {
   "cell_type": "code",
   "execution_count": 493,
   "id": "25a20144-0e90-45a6-b494-dab2db93a035",
   "metadata": {},
   "outputs": [
    {
     "data": {
      "text/html": [
       "<div>\n",
       "<style scoped>\n",
       "    .dataframe tbody tr th:only-of-type {\n",
       "        vertical-align: middle;\n",
       "    }\n",
       "\n",
       "    .dataframe tbody tr th {\n",
       "        vertical-align: top;\n",
       "    }\n",
       "\n",
       "    .dataframe thead th {\n",
       "        text-align: right;\n",
       "    }\n",
       "</style>\n",
       "<table border=\"1\" class=\"dataframe\">\n",
       "  <thead>\n",
       "    <tr style=\"text-align: right;\">\n",
       "      <th></th>\n",
       "      <th>decision_cost</th>\n",
       "      <th>decision_location</th>\n",
       "      <th>decision_programs</th>\n",
       "      <th>decision_online</th>\n",
       "      <th>decision_referral</th>\n",
       "      <th>decision_faculty</th>\n",
       "      <th>decision_reputation</th>\n",
       "      <th>decision_scholarships</th>\n",
       "      <th>decision_transfer</th>\n",
       "      <th>decision_class</th>\n",
       "      <th>decision_extracurricular</th>\n",
       "    </tr>\n",
       "    <tr>\n",
       "      <th>age</th>\n",
       "      <th></th>\n",
       "      <th></th>\n",
       "      <th></th>\n",
       "      <th></th>\n",
       "      <th></th>\n",
       "      <th></th>\n",
       "      <th></th>\n",
       "      <th></th>\n",
       "      <th></th>\n",
       "      <th></th>\n",
       "      <th></th>\n",
       "    </tr>\n",
       "  </thead>\n",
       "  <tbody>\n",
       "    <tr>\n",
       "      <th>18 and younger</th>\n",
       "      <td>13</td>\n",
       "      <td>14</td>\n",
       "      <td>14</td>\n",
       "      <td>14</td>\n",
       "      <td>14</td>\n",
       "      <td>13</td>\n",
       "      <td>14</td>\n",
       "      <td>12</td>\n",
       "      <td>13</td>\n",
       "      <td>14</td>\n",
       "      <td>14</td>\n",
       "    </tr>\n",
       "    <tr>\n",
       "      <th>19-20</th>\n",
       "      <td>43</td>\n",
       "      <td>43</td>\n",
       "      <td>42</td>\n",
       "      <td>41</td>\n",
       "      <td>42</td>\n",
       "      <td>39</td>\n",
       "      <td>40</td>\n",
       "      <td>41</td>\n",
       "      <td>41</td>\n",
       "      <td>41</td>\n",
       "      <td>40</td>\n",
       "    </tr>\n",
       "    <tr>\n",
       "      <th>21-24</th>\n",
       "      <td>16</td>\n",
       "      <td>17</td>\n",
       "      <td>17</td>\n",
       "      <td>16</td>\n",
       "      <td>15</td>\n",
       "      <td>15</td>\n",
       "      <td>16</td>\n",
       "      <td>16</td>\n",
       "      <td>14</td>\n",
       "      <td>16</td>\n",
       "      <td>15</td>\n",
       "    </tr>\n",
       "    <tr>\n",
       "      <th>25-34</th>\n",
       "      <td>11</td>\n",
       "      <td>11</td>\n",
       "      <td>11</td>\n",
       "      <td>11</td>\n",
       "      <td>10</td>\n",
       "      <td>10</td>\n",
       "      <td>11</td>\n",
       "      <td>10</td>\n",
       "      <td>10</td>\n",
       "      <td>10</td>\n",
       "      <td>9</td>\n",
       "    </tr>\n",
       "    <tr>\n",
       "      <th>35-64</th>\n",
       "      <td>6</td>\n",
       "      <td>6</td>\n",
       "      <td>5</td>\n",
       "      <td>5</td>\n",
       "      <td>5</td>\n",
       "      <td>5</td>\n",
       "      <td>5</td>\n",
       "      <td>5</td>\n",
       "      <td>5</td>\n",
       "      <td>5</td>\n",
       "      <td>5</td>\n",
       "    </tr>\n",
       "  </tbody>\n",
       "</table>\n",
       "</div>"
      ],
      "text/plain": [
       "                decision_cost  decision_location  decision_programs  \\\n",
       "age                                                                   \n",
       "18 and younger             13                 14                 14   \n",
       "19-20                      43                 43                 42   \n",
       "21-24                      16                 17                 17   \n",
       "25-34                      11                 11                 11   \n",
       "35-64                       6                  6                  5   \n",
       "\n",
       "                decision_online  decision_referral  decision_faculty  \\\n",
       "age                                                                    \n",
       "18 and younger               14                 14                13   \n",
       "19-20                        41                 42                39   \n",
       "21-24                        16                 15                15   \n",
       "25-34                        11                 10                10   \n",
       "35-64                         5                  5                 5   \n",
       "\n",
       "                decision_reputation  decision_scholarships  decision_transfer  \\\n",
       "age                                                                             \n",
       "18 and younger                   14                     12                 13   \n",
       "19-20                            40                     41                 41   \n",
       "21-24                            16                     16                 14   \n",
       "25-34                            11                     10                 10   \n",
       "35-64                             5                      5                  5   \n",
       "\n",
       "                decision_class  decision_extracurricular  \n",
       "age                                                       \n",
       "18 and younger              14                        14  \n",
       "19-20                       41                        40  \n",
       "21-24                       16                        15  \n",
       "25-34                       10                         9  \n",
       "35-64                        5                         5  "
      ]
     },
     "execution_count": 493,
     "metadata": {},
     "output_type": "execute_result"
    }
   ],
   "source": [
    "decision_summary = decision.groupby('age').count()\n",
    "decision_summary"
   ]
  },
  {
   "cell_type": "code",
   "execution_count": 494,
   "id": "f3e054e5-dee4-455a-bb00-d8da2cf62f3d",
   "metadata": {},
   "outputs": [
    {
     "data": {
      "text/plain": [
       "age\n",
       "18 and younger    13\n",
       "19-20             43\n",
       "21-24             16\n",
       "25-34             11\n",
       "35-64              6\n",
       "Name: decision_cost, dtype: int64"
      ]
     },
     "execution_count": 494,
     "metadata": {},
     "output_type": "execute_result"
    }
   ],
   "source": [
    "cost = decision[[\"decision_cost\",\"age\"]]\n",
    "cost\n",
    "cost_summary= cost.groupby('age')['decision_cost'].count()\n",
    "cost_summary"
   ]
  },
  {
   "cell_type": "code",
   "execution_count": 495,
   "id": "35f206a9-ff64-4bf7-80a0-937bdfd836e1",
   "metadata": {},
   "outputs": [
    {
     "data": {
      "text/plain": [
       "Text(0.5, 1.0, 'Impact of Affordable Cost Varies by Age')"
      ]
     },
     "execution_count": 495,
     "metadata": {},
     "output_type": "execute_result"
    },
    {
     "data": {
      "image/png": "[encoded data removed]",
      "text/plain": [
       "<Figure size 640x480 with 1 Axes>"
      ]
     },
     "metadata": {},
     "output_type": "display_data"
    }
   ],
   "source": [
    "plt.pie(cost_summary, labels = ['18 and younger', '19-20','21-24','25-34','35-65'])\n",
    "plt.legend(title=\"Age\")\n",
    "plt.title(\"Impact of Affordable Cost Varies by Age\")"
   ]
  },
  {
   "cell_type": "code",
   "execution_count": 496,
   "id": "896028d3-e1e7-4c5d-a104-71fd26474368",
   "metadata": {},
   "outputs": [
    {
     "data": {
      "text/plain": [
       "age\n",
       "18 and younger    14\n",
       "19-20             43\n",
       "21-24             17\n",
       "25-34             11\n",
       "35-64              6\n",
       "Name: decision_location, dtype: int64"
      ]
     },
     "execution_count": 496,
     "metadata": {},
     "output_type": "execute_result"
    }
   ],
   "source": [
    "location = decision[[\"decision_location\", \"age\"]]\n",
    "location\n",
    "location_summary = location.groupby('age')['decision_location'].count()\n",
    "location_summary"
   ]
  },
  {
   "cell_type": "code",
   "execution_count": 497,
   "id": "e1b81e31-4c67-4249-a2d0-398040425964",
   "metadata": {},
   "outputs": [
    {
     "data": {
      "text/plain": [
       "Text(0.5, 1.0, 'Impact of Location Varies by Age')"
      ]
     },
     "execution_count": 497,
     "metadata": {},
     "output_type": "execute_result"
    },
    {
     "data": {
      "image/png": "[encoded data removed]",
      "text/plain": [
       "<Figure size 640x480 with 1 Axes>"
      ]
     },
     "metadata": {},
     "output_type": "display_data"
    }
   ],
   "source": [
    "plt.pie(location_summary, labels = ['18 and younger', '19-20','21-24','25-34','35-65'])\n",
    "plt.legend(title = \"Age\")\n",
    "plt.title(\"Impact of Location Varies by Age\")"
   ]
  },
  {
   "cell_type": "code",
   "execution_count": 498,
   "id": "536acd74-8d82-4cc5-8320-cd4ed1376300",
   "metadata": {},
   "outputs": [
    {
     "data": {
      "text/plain": [
       "age\n",
       "18 and younger    14\n",
       "19-20             42\n",
       "21-24             17\n",
       "25-34             11\n",
       "35-64              5\n",
       "Name: decision_programs, dtype: int64"
      ]
     },
     "execution_count": 498,
     "metadata": {},
     "output_type": "execute_result"
    }
   ],
   "source": [
    "program = decision[[\"decision_programs\",\"age\"]]\n",
    "program\n",
    "program_summary= program.groupby('age')['decision_programs'].count()\n",
    "program_summary"
   ]
  },
  {
   "cell_type": "code",
   "execution_count": 499,
   "id": "f03622d5-7ddc-488e-9f30-d8d909bdd98e",
   "metadata": {},
   "outputs": [
    {
     "data": {
      "text/plain": [
       "Text(0.5, 1.0, 'Impact of Choicce of Programs Varies by Age')"
      ]
     },
     "execution_count": 499,
     "metadata": {},
     "output_type": "execute_result"
    },
    {
     "data": {
      "image/png": "[encoded data removed]",
      "text/plain": [
       "<Figure size 640x480 with 1 Axes>"
      ]
     },
     "metadata": {},
     "output_type": "display_data"
    }
   ],
   "source": [
    "plt.pie(program_summary, labels = ['18 and younger', '19-20','21-24','25-34','35-65'])\n",
    "plt.legend(title = \"Age\")\n",
    "plt.title(\"Impact of Choicce of Programs Varies by Age\")"
   ]
  },
  {
   "cell_type": "markdown",
   "id": "c8b30935-0d87-4ae7-898d-9d9c8aa74b91",
   "metadata": {},
   "source": [
    "### The pie charts look similar due to there being a slight difference in the amount of chosen responses to the option of affordable cost, location, and choice of programs."
   ]
  },
  {
   "cell_type": "code",
   "execution_count": null,
   "id": "11d2ac79-c2bd-4fe2-a246-ff1be4d1e086",
   "metadata": {},
   "outputs": [],
   "source": []
  },
  {
   "cell_type": "markdown",
   "id": "9ec82d30-6048-47b7-806e-8ca6f28f1cd0",
   "metadata": {},
   "source": [
    "## In conclusion, some ways CCM can increase enrollment of computing classes is to have more classes be required for graduation and advertise certain classes that would appeal more to women."
   ]
  }
 ],
 "metadata": {
  "kernelspec": {
   "display_name": "anaconda-2024.02-py310",
   "language": "python",
   "name": "conda-env-anaconda-2024.02-py310-py"
  },
  "language_info": {
   "codemirror_mode": {
    "name": "ipython",
    "version": 3
   },
   "file_extension": ".py",
   "mimetype": "text/x-python",
   "name": "python",
   "nbconvert_exporter": "python",
   "pygments_lexer": "ipython3",
   "version": "3.10.14"
  }
 },
 "nbformat": 4,
 "nbformat_minor": 5
}
